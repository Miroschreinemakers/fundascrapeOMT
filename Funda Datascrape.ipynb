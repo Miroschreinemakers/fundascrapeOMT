{
 "cells": [
  {
   "cell_type": "code",
   "execution_count": 1,
   "id": "ff8038fe",
   "metadata": {},
   "outputs": [
    {
     "name": "stdout",
     "output_type": "stream",
     "text": [
      "Collecting funda-scraper\n",
      "  Downloading funda_scraper-0.0.2-py3-none-any.whl (9.1 kB)\n",
      "Requirement already satisfied: tqdm>=4.42.0 in /opt/anaconda3/lib/python3.9/site-packages (from funda-scraper) (4.64.0)\n",
      "Requirement already satisfied: requests>=2 in /opt/anaconda3/lib/python3.9/site-packages (from funda-scraper) (2.27.1)\n",
      "Collecting diot>=0.1.5\n",
      "  Downloading diot-0.1.7-py3-none-any.whl (11 kB)\n",
      "Requirement already satisfied: beautifulsoup4>=4.8 in /opt/anaconda3/lib/python3.9/site-packages (from funda-scraper) (4.11.1)\n",
      "Requirement already satisfied: lxml>=4 in /opt/anaconda3/lib/python3.9/site-packages (from funda-scraper) (4.8.0)\n",
      "Requirement already satisfied: pandas>=1.2 in /opt/anaconda3/lib/python3.9/site-packages (from funda-scraper) (1.4.2)\n",
      "Requirement already satisfied: PyYAML>=5.0 in /opt/anaconda3/lib/python3.9/site-packages (from funda-scraper) (6.0)\n",
      "Requirement already satisfied: soupsieve>1.2 in /opt/anaconda3/lib/python3.9/site-packages (from beautifulsoup4>=4.8->funda-scraper) (2.3.1)\n",
      "Requirement already satisfied: inflection<0.6,>=0.5 in /opt/anaconda3/lib/python3.9/site-packages (from diot>=0.1.5->funda-scraper) (0.5.1)\n",
      "Requirement already satisfied: python-dateutil>=2.8.1 in /opt/anaconda3/lib/python3.9/site-packages (from pandas>=1.2->funda-scraper) (2.8.2)\n",
      "Requirement already satisfied: pytz>=2020.1 in /opt/anaconda3/lib/python3.9/site-packages (from pandas>=1.2->funda-scraper) (2021.3)\n",
      "Requirement already satisfied: numpy>=1.20.0 in /opt/anaconda3/lib/python3.9/site-packages (from pandas>=1.2->funda-scraper) (1.21.5)\n",
      "Requirement already satisfied: six>=1.5 in /opt/anaconda3/lib/python3.9/site-packages (from python-dateutil>=2.8.1->pandas>=1.2->funda-scraper) (1.16.0)\n",
      "Requirement already satisfied: idna<4,>=2.5 in /opt/anaconda3/lib/python3.9/site-packages (from requests>=2->funda-scraper) (3.3)\n",
      "Requirement already satisfied: certifi>=2017.4.17 in /opt/anaconda3/lib/python3.9/site-packages (from requests>=2->funda-scraper) (2023.5.7)\n",
      "Requirement already satisfied: charset-normalizer~=2.0.0 in /opt/anaconda3/lib/python3.9/site-packages (from requests>=2->funda-scraper) (2.0.4)\n",
      "Requirement already satisfied: urllib3<1.27,>=1.21.1 in /opt/anaconda3/lib/python3.9/site-packages (from requests>=2->funda-scraper) (1.26.9)\n",
      "Installing collected packages: diot, funda-scraper\n",
      "Successfully installed diot-0.1.7 funda-scraper-0.0.2\n",
      "Note: you may need to restart the kernel to use updated packages.\n"
     ]
    }
   ],
   "source": [
    "# voor het scrapen van funda wordt gebruik gemaakt van de bestaande repository funda-scraper\n",
    "# https://pypi.org/project/funda-scraper/\n",
    "# https://github.com/whchien/funda-scraper\n",
    "\n",
    "pip install funda-scraper\n"
   ]
  },
  {
   "cell_type": "code",
   "execution_count": 32,
   "id": "bfcb40c6",
   "metadata": {},
   "outputs": [
    {
     "name": "stderr",
     "output_type": "stream",
     "text": [
      "\u001b[38;20m2023-05-25 12:59:10,301 - INFO - *** Phase 1: Fetch all the available links from all pages ***  (scrape.py:107)\u001b[0m\n",
      "100%|█████████████████████████████████████████| 213/213 [02:08<00:00,  1.66it/s]\n",
      "\u001b[38;20m2023-05-25 13:01:18,446 - INFO - *** Got all the urls. 3336 houses found in 212 pages. *** (scrape.py:118)\u001b[0m\n",
      "\u001b[38;20m2023-05-25 13:01:18,447 - INFO - *** Phase 2: Start scraping results from individual links *** (scrape.py:183)\u001b[0m\n",
      "/opt/anaconda3/lib/python3.9/site-packages/funda_scraper/scrape.py:188: TqdmWarning: Iterable length 3336 > 1000 but `chunksize` is not set. This may seriously degrade multiprocess performance. Set `chunksize=1` or more.\n",
      "  content = process_map(self.scrape_from_url, self.links, max_workers=pools)\n"
     ]
    },
    {
     "data": {
      "application/vnd.jupyter.widget-view+json": {
       "model_id": "1d247a5ed6b1435489c842650db71ca0",
       "version_major": 2,
       "version_minor": 0
      },
      "text/plain": [
       "  0%|          | 0/3336 [00:00<?, ?it/s]"
      ]
     },
     "metadata": {},
     "output_type": "display_data"
    },
    {
     "name": "stderr",
     "output_type": "stream",
     "text": [
      "\u001b[38;20m2023-05-25 13:06:50,557 - INFO - *** All scraping done: 3336 results *** (scrape.py:195)\u001b[0m\n",
      "\u001b[38;20m2023-05-25 13:06:50,557 - INFO - *** Cleaning data *** (scrape.py:229)\u001b[0m\n"
     ]
    },
    {
     "data": {
      "text/html": [
       "<div>\n",
       "<style scoped>\n",
       "    .dataframe tbody tr th:only-of-type {\n",
       "        vertical-align: middle;\n",
       "    }\n",
       "\n",
       "    .dataframe tbody tr th {\n",
       "        vertical-align: top;\n",
       "    }\n",
       "\n",
       "    .dataframe thead th {\n",
       "        text-align: right;\n",
       "    }\n",
       "</style>\n",
       "<table border=\"1\" class=\"dataframe\">\n",
       "  <thead>\n",
       "    <tr style=\"text-align: right;\">\n",
       "      <th></th>\n",
       "      <th>house_id</th>\n",
       "      <th>city</th>\n",
       "      <th>house_type</th>\n",
       "      <th>building_type</th>\n",
       "      <th>price</th>\n",
       "      <th>price_m2</th>\n",
       "      <th>room</th>\n",
       "      <th>bedroom</th>\n",
       "      <th>bathroom</th>\n",
       "      <th>living_area</th>\n",
       "      <th>...</th>\n",
       "      <th>has_balcony</th>\n",
       "      <th>has_garden</th>\n",
       "      <th>zip</th>\n",
       "      <th>address</th>\n",
       "      <th>year_built</th>\n",
       "      <th>house_age</th>\n",
       "      <th>date_list</th>\n",
       "      <th>ym_list</th>\n",
       "      <th>year_list</th>\n",
       "      <th>descrip</th>\n",
       "    </tr>\n",
       "  </thead>\n",
       "  <tbody>\n",
       "    <tr>\n",
       "      <th>0</th>\n",
       "      <td>42114279</td>\n",
       "      <td>amsterdam</td>\n",
       "      <td>appartement</td>\n",
       "      <td>New property</td>\n",
       "      <td>695000</td>\n",
       "      <td>6318.2</td>\n",
       "      <td>3</td>\n",
       "      <td>2</td>\n",
       "      <td>1</td>\n",
       "      <td>110</td>\n",
       "      <td>...</td>\n",
       "      <td>0</td>\n",
       "      <td>0</td>\n",
       "      <td>1043</td>\n",
       "      <td>Barajasweg 108</td>\n",
       "      <td>2023</td>\n",
       "      <td>0</td>\n",
       "      <td>2023-05-24 00:00:00.000000</td>\n",
       "      <td>2023-05-01</td>\n",
       "      <td>2023</td>\n",
       "      <td>\\r\\nBezichtigingsmogelijkheid op vrijdag  2  j...</td>\n",
       "    </tr>\n",
       "    <tr>\n",
       "      <th>1</th>\n",
       "      <td>42107538</td>\n",
       "      <td>amsterdam</td>\n",
       "      <td>appartement</td>\n",
       "      <td>Resale property</td>\n",
       "      <td>825000</td>\n",
       "      <td>8684.2</td>\n",
       "      <td>2</td>\n",
       "      <td>1</td>\n",
       "      <td>1</td>\n",
       "      <td>95</td>\n",
       "      <td>...</td>\n",
       "      <td>0</td>\n",
       "      <td>1</td>\n",
       "      <td>1017</td>\n",
       "      <td>Kerkstraat 303 L</td>\n",
       "      <td>0</td>\n",
       "      <td>2023</td>\n",
       "      <td>2023-05-11 13:06:50.588338</td>\n",
       "      <td>2023-05-01</td>\n",
       "      <td>2023</td>\n",
       "      <td>\\r\\nFor sale! Modern  apartment  with contempo...</td>\n",
       "    </tr>\n",
       "    <tr>\n",
       "      <th>2</th>\n",
       "      <td>42930188</td>\n",
       "      <td>amsterdam</td>\n",
       "      <td>appartement</td>\n",
       "      <td>New property</td>\n",
       "      <td>421500</td>\n",
       "      <td>7144.1</td>\n",
       "      <td>2</td>\n",
       "      <td>1</td>\n",
       "      <td>1</td>\n",
       "      <td>59</td>\n",
       "      <td>...</td>\n",
       "      <td>0</td>\n",
       "      <td>0</td>\n",
       "      <td>1101</td>\n",
       "      <td>Hondsrugweg (Bouwnr. 88)</td>\n",
       "      <td>2024</td>\n",
       "      <td>-1</td>\n",
       "      <td>2022-11-26 13:06:50.588345</td>\n",
       "      <td>2022-11-01</td>\n",
       "      <td>2022</td>\n",
       "      <td>\\r\\nConstruction has started  and  expected co...</td>\n",
       "    </tr>\n",
       "    <tr>\n",
       "      <th>3</th>\n",
       "      <td>42100386</td>\n",
       "      <td>amsterdam</td>\n",
       "      <td>appartement</td>\n",
       "      <td>Resale property</td>\n",
       "      <td>699000</td>\n",
       "      <td>6532.7</td>\n",
       "      <td>4</td>\n",
       "      <td>3</td>\n",
       "      <td>1</td>\n",
       "      <td>107</td>\n",
       "      <td>...</td>\n",
       "      <td>0</td>\n",
       "      <td>1</td>\n",
       "      <td>1095</td>\n",
       "      <td>Tidorestraat 88</td>\n",
       "      <td>1982</td>\n",
       "      <td>41</td>\n",
       "      <td>2023-05-11 13:06:50.588347</td>\n",
       "      <td>2023-05-01</td>\n",
       "      <td>2023</td>\n",
       "      <td>\\r\\n(ENGLISH BELOW) Welkom  bij  Tidorestraat ...</td>\n",
       "    </tr>\n",
       "    <tr>\n",
       "      <th>4</th>\n",
       "      <td>88558618</td>\n",
       "      <td>amsterdam</td>\n",
       "      <td>huis</td>\n",
       "      <td>Resale property</td>\n",
       "      <td>489000</td>\n",
       "      <td>4701.9</td>\n",
       "      <td>4</td>\n",
       "      <td>3</td>\n",
       "      <td>1</td>\n",
       "      <td>104</td>\n",
       "      <td>...</td>\n",
       "      <td>0</td>\n",
       "      <td>1</td>\n",
       "      <td>1106</td>\n",
       "      <td>Mijndenhof 35</td>\n",
       "      <td>1981</td>\n",
       "      <td>42</td>\n",
       "      <td>2023-05-11 13:06:50.588348</td>\n",
       "      <td>2023-05-01</td>\n",
       "      <td>2023</td>\n",
       "      <td>\\r\\nWelkom bij Mijndenhof  35  te Amsterdam   ...</td>\n",
       "    </tr>\n",
       "  </tbody>\n",
       "</table>\n",
       "<p>5 rows × 21 columns</p>\n",
       "</div>"
      ],
      "text/plain": [
       "   house_id       city   house_type    building_type   price  price_m2  room  \\\n",
       "0  42114279  amsterdam  appartement     New property  695000    6318.2     3   \n",
       "1  42107538  amsterdam  appartement  Resale property  825000    8684.2     2   \n",
       "2  42930188  amsterdam  appartement     New property  421500    7144.1     2   \n",
       "3  42100386  amsterdam  appartement  Resale property  699000    6532.7     4   \n",
       "4  88558618  amsterdam         huis  Resale property  489000    4701.9     4   \n",
       "\n",
       "   bedroom  bathroom  living_area  ... has_balcony  has_garden   zip  \\\n",
       "0        2         1          110  ...           0           0  1043   \n",
       "1        1         1           95  ...           0           1  1017   \n",
       "2        1         1           59  ...           0           0  1101   \n",
       "3        3         1          107  ...           0           1  1095   \n",
       "4        3         1          104  ...           0           1  1106   \n",
       "\n",
       "                    address year_built  house_age                  date_list  \\\n",
       "0            Barajasweg 108       2023          0 2023-05-24 00:00:00.000000   \n",
       "1          Kerkstraat 303 L          0       2023 2023-05-11 13:06:50.588338   \n",
       "2  Hondsrugweg (Bouwnr. 88)       2024         -1 2022-11-26 13:06:50.588345   \n",
       "3           Tidorestraat 88       1982         41 2023-05-11 13:06:50.588347   \n",
       "4             Mijndenhof 35       1981         42 2023-05-11 13:06:50.588348   \n",
       "\n",
       "     ym_list year_list                                            descrip  \n",
       "0 2023-05-01      2023  \\r\\nBezichtigingsmogelijkheid op vrijdag  2  j...  \n",
       "1 2023-05-01      2023  \\r\\nFor sale! Modern  apartment  with contempo...  \n",
       "2 2022-11-01      2022  \\r\\nConstruction has started  and  expected co...  \n",
       "3 2023-05-01      2023  \\r\\n(ENGLISH BELOW) Welkom  bij  Tidorestraat ...  \n",
       "4 2023-05-01      2023  \\r\\nWelkom bij Mijndenhof  35  te Amsterdam   ...  \n",
       "\n",
       "[5 rows x 21 columns]"
      ]
     },
     "execution_count": 32,
     "metadata": {},
     "output_type": "execute_result"
    }
   ],
   "source": [
    "from funda_scraper import FundaScraper\n",
    "\n",
    "#funda.nl geraadpleegd op 25-3-2023, op dat moment waren in Amstedam 212 paginas aan koopwoningen beschikbaar voor webscraping \n",
    "scraper = FundaScraper(area=\"amsterdam\", n_pages=212, want_to='buy')\n",
    "# scraper URL \n",
    "df = scraper.run()\n",
    "\n",
    "df.head()"
   ]
  },
  {
   "cell_type": "code",
   "execution_count": 41,
   "id": "bfef3c6a",
   "metadata": {},
   "outputs": [
    {
     "data": {
      "text/plain": [
       "(2411,\n",
       " Index(['house_id', 'city', 'house_type', 'building_type', 'price', 'price_m2',\n",
       "        'room', 'bedroom', 'bathroom', 'living_area', 'energy_label',\n",
       "        'has_balcony', 'has_garden', 'zip', 'address', 'year_built',\n",
       "        'house_age', 'date_list', 'ym_list', 'year_list', 'descrip'],\n",
       "       dtype='object'))"
      ]
     },
     "execution_count": 41,
     "metadata": {},
     "output_type": "execute_result"
    }
   ],
   "source": [
    "# in totaal zijn er 2411 koopwoningen gevonden \n",
    "# de gescrapte data wordt door de package automatisch gecleaned en in de volgende kolommen geplaatst\n",
    "len(df), df.columns"
   ]
  },
  {
   "cell_type": "markdown",
   "id": "411eb5bf",
   "metadata": {},
   "source": [
    "In tegenstelling tot de code die gebruikt is in de thesis, wordt via deze package alleen een beperkt aantal kenmerken van de huizen gescraped. Dit betekent dat de schrijver van de package van te voren al een feature filter heeft verwerkt in de scraper package. Opvallend is dat features zoals 'Soort Dak' en 'Voorzieningen' ontbreken. \n",
    "\n",
    "Desondanks de ontbrekende features is voor deze package gekozen omdat de geselecteerde features in deze package een beknopt beeld geven van de belangrijkste gegevens van verkoophuizen. \n",
    "\n",
    "Het grote voordeel van deze package is dat het opschonen van de data al verwerkt zit in de extractor functie. \n",
    "\n",
    "Aan de hand van een handmatige steekproef controle is de gescrapte data gevalideerd met de funda website. "
   ]
  },
  {
   "cell_type": "code",
   "execution_count": 48,
   "id": "26006b54",
   "metadata": {},
   "outputs": [
    {
     "data": {
      "text/plain": [
       "814196.7598506843"
      ]
     },
     "execution_count": 48,
     "metadata": {},
     "output_type": "execute_result"
    }
   ],
   "source": [
    "# statistieken van de prijs\n",
    "\n",
    "#gemiddelde verkoopprijs\n",
    "df['price'].describe()['mean']"
   ]
  },
  {
   "cell_type": "code",
   "execution_count": 49,
   "id": "d5371bae",
   "metadata": {},
   "outputs": [
    {
     "data": {
      "text/plain": [
       "109950.0"
      ]
     },
     "execution_count": 49,
     "metadata": {},
     "output_type": "execute_result"
    }
   ],
   "source": [
    "df['price'].describe()['min']\n"
   ]
  },
  {
   "cell_type": "code",
   "execution_count": 50,
   "id": "9def43bf",
   "metadata": {},
   "outputs": [
    {
     "data": {
      "text/plain": [
       "7000000.0"
      ]
     },
     "execution_count": 50,
     "metadata": {},
     "output_type": "execute_result"
    }
   ],
   "source": [
    "df['price'].describe()['max']\n"
   ]
  },
  {
   "cell_type": "markdown",
   "id": "6ade423a",
   "metadata": {},
   "source": [
    "De gemiddelde verkoopprijs is 814.196,76 \n",
    "\n",
    "De minimum verkoopprijs is 109.950,00 \n",
    "\n",
    "de maximum verkoopprijs is 7.000.000,00\n",
    "\n"
   ]
  },
  {
   "cell_type": "code",
   "execution_count": 51,
   "id": "482ac556",
   "metadata": {},
   "outputs": [],
   "source": [
    "#exporteer pandas data set naar csv\n",
    "compression_opts = dict(method='zip', archive_name='Funda_Amsterdam_25-03-2023.csv') \n",
    "\n",
    "df.to_csv('Funda_Amsterdam_25-03-2023.zip', index=False, compression=compression_opts)  "
   ]
  },
  {
   "cell_type": "code",
   "execution_count": null,
   "id": "e2672765",
   "metadata": {},
   "outputs": [],
   "source": []
  }
 ],
 "metadata": {
  "kernelspec": {
   "display_name": "Python 3 (ipykernel)",
   "language": "python",
   "name": "python3"
  },
  "language_info": {
   "codemirror_mode": {
    "name": "ipython",
    "version": 3
   },
   "file_extension": ".py",
   "mimetype": "text/x-python",
   "name": "python",
   "nbconvert_exporter": "python",
   "pygments_lexer": "ipython3",
   "version": "3.9.12"
  }
 },
 "nbformat": 4,
 "nbformat_minor": 5
}
